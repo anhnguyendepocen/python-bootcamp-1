{
 "cells": [
  {
   "cell_type": "markdown",
   "metadata": {},
   "source": [
    "## **Python Bootcamp - Unit 4**\n",
    "---\n",
    "**Author:** David Dobolyi\n",
    "\n",
    "**Key Concepts**\n",
    "- [Variables](#Variables)\n",
    "    - [Variable Naming](#VariableNaming)\n",
    "    - [Augmented Assignment](#AugmentedAssignment)\n",
    "    - [Multiple Assignment](#MultipleAssignment)\n",
    "    - [Deleting Variables](#DeletingVariables)\n",
    "- [Data Structures](#DataStructures)\n",
    "    - [Lists](#Lists)\n",
    "        - [Accessing Elements](#ListsAccessingElements)\n",
    "        - [In and Not In](#InAndNotIn)\n",
    "        - [Updating Elements](#ListsUpdatingElements)\n",
    "        - [Adding Elements](#ListsAddingElements)\n",
    "        - [Deleting Elements](#ListsDeletingElements)\n",
    "        - [Joining](#ListsJoining)\n",
    "        - [Other Methods](#ListsOtherMethods)\n",
    "        - [Generating Ranges](#ListsGeneratingRanges)\n",
    "    - [Tuples](#Tuples)\n",
    "        - [Accessing Elements](#TuplesAccessingElements)\n",
    "        - [Updating/Adding/Deleting Elements](#TuplesUpdatingAddingDeletingElements)\n",
    "        - [Joining](#TuplesJoining)\n",
    "        - [Other Methods](#TuplesOtherMethods)\n",
    "    - [Sets](#Sets)\n",
    "        - [Accessing Elements](#SetsAccessingElements)\n",
    "        - [Updating Elements](#SetsUpdatingElements)\n",
    "        - [Adding Elements](#SetsAddingElements)\n",
    "        - [Deleting Elements](#SetsDeletingElements)\n",
    "        - [Joining](#SetsJoining)\n",
    "        - [Other Methods](#SetsOtherMethods)\n",
    "    - [Dictionaries](#Dictionaries)\n",
    "- [References vs. Copies](#ReferencesCopies)\n",
    "    - [Comparison Operators: Identity](#ComparisonOperatorsIdentity)\n"
   ]
  },
  {
   "cell_type": "markdown",
   "metadata": {},
   "source": [
    "---\n",
    "### <a name = \"Variables\">Variables</a>\n",
    "\n",
    "Python allows us to assign values to *variables* so we can refer to them later. To perform assignment, we must provide a named variable and a value to bind to it using the assignment operator `=`:"
   ]
  },
  {
   "cell_type": "code",
   "execution_count": 1,
   "metadata": {},
   "outputs": [],
   "source": [
    "variable = 5"
   ]
  },
  {
   "cell_type": "markdown",
   "metadata": {},
   "source": [
    "Once assigned, we can refer to the variable we created by name to call it back:"
   ]
  },
  {
   "cell_type": "code",
   "execution_count": 2,
   "metadata": {},
   "outputs": [
    {
     "data": {
      "text/plain": [
       "5"
      ]
     },
     "execution_count": 2,
     "metadata": {},
     "output_type": "execute_result"
    }
   ],
   "source": [
    "variable"
   ]
  },
  {
   "cell_type": "markdown",
   "metadata": {},
   "source": [
    "Variables must have a data type, and Python is *dynamically typed*, meaning that the type of a variable is determined based on the object it holds rather than the type of the variable being explicitly defined in advance (languages that do the latter are  *statically typed*):"
   ]
  },
  {
   "cell_type": "code",
   "execution_count": 3,
   "metadata": {},
   "outputs": [
    {
     "data": {
      "text/plain": [
       "int"
      ]
     },
     "execution_count": 3,
     "metadata": {},
     "output_type": "execute_result"
    }
   ],
   "source": [
    "type(variable)"
   ]
  },
  {
   "cell_type": "markdown",
   "metadata": {},
   "source": [
    "As shown in this example, because myVar was set to `5`, which is an `int` the variable itself was assigned as an `int`.\n",
    "\n",
    "If we change the value stored in our variable, note that the type will change dynamically as well:"
   ]
  },
  {
   "cell_type": "code",
   "execution_count": 4,
   "metadata": {},
   "outputs": [
    {
     "data": {
      "text/plain": [
       "float"
      ]
     },
     "execution_count": 4,
     "metadata": {},
     "output_type": "execute_result"
    }
   ],
   "source": [
    "variable = 5.5\n",
    "type(variable)"
   ]
  },
  {
   "cell_type": "markdown",
   "metadata": {},
   "source": [
    "#### <a name = \"VariableNaming\">Variable Naming</a>\n",
    "\n",
    "When it comes to naming variables in Python, there are several important rules that must be considered. Specifically, variable names:\n",
    "- May contain letters, numbers, underscores (i.e., `_`), and/or Unicode characters\n",
    "- Must not begin with a number\n",
    "- Must not contain punctuation (e.g., `!`, `@`)\n",
    "- May be of any length\n",
    "- Are case sensitive (e.g., `Variable` is not the same as `variable`)\n",
    "- Must not be one of Python's reserved words (e.g., `True` or `None`)\n",
    "\n",
    "Regarding the latter point, to see a full list of reserved keywords, you use the following command:"
   ]
  },
  {
   "cell_type": "code",
   "execution_count": 5,
   "metadata": {},
   "outputs": [
    {
     "name": "stdout",
     "output_type": "stream",
     "text": [
      "\n",
      "Here is a list of the Python keywords.  Enter any keyword to get more help.\n",
      "\n",
      "False               class               from                or\n",
      "None                continue            global              pass\n",
      "True                def                 if                  raise\n",
      "and                 del                 import              return\n",
      "as                  elif                in                  try\n",
      "assert              else                is                  while\n",
      "async               except              lambda              with\n",
      "await               finally             nonlocal            yield\n",
      "break               for                 not                 \n",
      "\n"
     ]
    }
   ],
   "source": [
    "help('keywords')"
   ]
  },
  {
   "cell_type": "markdown",
   "metadata": {},
   "source": [
    "In addition, there are several common conventions for creating variable names that are clear and easy to understand. For example, see the PEP 8 guide for a full set of [descriptive](https://www.python.org/dev/peps/pep-0008/#descriptive-naming-styles) and [prescriptive](https://www.python.org/dev/peps/pep-0008/#prescriptive-naming-conventions) recommendations."
   ]
  },
  {
   "cell_type": "markdown",
   "metadata": {},
   "source": [
    "#### <a name = \"AugmentedAssignment\">Augmented Assignment</a>\n",
    "\n",
    "In addition to using `=` for assignment, Python supports several more for *augmented assignment*. Augmented assignment is useful for writing more condensed code when changing values in variables involves basic arithmetic. For instance, suppose we wanted to increment the value of our variable named `variable` by one. We could do this as follows:"
   ]
  },
  {
   "cell_type": "code",
   "execution_count": 6,
   "metadata": {},
   "outputs": [
    {
     "data": {
      "text/plain": [
       "6"
      ]
     },
     "execution_count": 6,
     "metadata": {},
     "output_type": "execute_result"
    }
   ],
   "source": [
    "variable = 5\n",
    "variable = variable + 1\n",
    "variable"
   ]
  },
  {
   "cell_type": "markdown",
   "metadata": {},
   "source": [
    "Alternatively, we could use augmented assignment to simplify this operation:"
   ]
  },
  {
   "cell_type": "code",
   "execution_count": 7,
   "metadata": {},
   "outputs": [
    {
     "data": {
      "text/plain": [
       "6"
      ]
     },
     "execution_count": 7,
     "metadata": {},
     "output_type": "execute_result"
    }
   ],
   "source": [
    "variable = 5\n",
    "variable += 1\n",
    "variable"
   ]
  },
  {
   "cell_type": "markdown",
   "metadata": {},
   "source": [
    "Augmented assignment can be done with a wide range of arithmetic operators as shown above, although addition and subtraction care the most common. For an example involving multiplication, consider the following:"
   ]
  },
  {
   "cell_type": "code",
   "execution_count": 8,
   "metadata": {},
   "outputs": [
    {
     "data": {
      "text/plain": [
       "10"
      ]
     },
     "execution_count": 8,
     "metadata": {},
     "output_type": "execute_result"
    }
   ],
   "source": [
    "variable = 5\n",
    "variable *= 2\n",
    "variable"
   ]
  },
  {
   "cell_type": "markdown",
   "metadata": {},
   "source": [
    "For more details on what's possible with augmented assignment, see `help('+=')`:"
   ]
  },
  {
   "cell_type": "code",
   "execution_count": 9,
   "metadata": {},
   "outputs": [
    {
     "name": "stdout",
     "output_type": "stream",
     "text": [
      "Augmented assignment statements\n",
      "*******************************\n",
      "\n",
      "Augmented assignment is the combination, in a single statement, of a\n",
      "binary operation and an assignment statement:\n",
      "\n",
      "   augmented_assignment_stmt ::= augtarget augop (expression_list | yield_expression)\n",
      "   augtarget                 ::= identifier | attributeref | subscription | slicing\n",
      "   augop                     ::= \"+=\" | \"-=\" | \"*=\" | \"@=\" | \"/=\" | \"//=\" | \"%=\" | \"**=\"\n",
      "             | \">>=\" | \"<<=\" | \"&=\" | \"^=\" | \"|=\"\n",
      "\n",
      "(See section Primaries for the syntax definitions of the last three\n",
      "symbols.)\n",
      "\n",
      "An augmented assignment evaluates the target (which, unlike normal\n",
      "assignment statements, cannot be an unpacking) and the expression\n",
      "list, performs the binary operation specific to the type of assignment\n",
      "on the two operands, and assigns the result to the original target.\n",
      "The target is only evaluated once.\n",
      "\n",
      "An augmented assignment expression like \"x += 1\" can be rewritten as\n",
      "\"x = x + 1\" to achieve a similar, but not exactly equal effect. In the\n",
      "augmented version, \"x\" is only evaluated once. Also, when possible,\n",
      "the actual operation is performed *in-place*, meaning that rather than\n",
      "creating a new object and assigning that to the target, the old object\n",
      "is modified instead.\n",
      "\n",
      "Unlike normal assignments, augmented assignments evaluate the left-\n",
      "hand side *before* evaluating the right-hand side.  For example, \"a[i]\n",
      "+= f(x)\" first looks-up \"a[i]\", then it evaluates \"f(x)\" and performs\n",
      "the addition, and lastly, it writes the result back to \"a[i]\".\n",
      "\n",
      "With the exception of assigning to tuples and multiple targets in a\n",
      "single statement, the assignment done by augmented assignment\n",
      "statements is handled the same way as normal assignments. Similarly,\n",
      "with the exception of the possible *in-place* behavior, the binary\n",
      "operation performed by augmented assignment is the same as the normal\n",
      "binary operations.\n",
      "\n",
      "For targets which are attribute references, the same caveat about\n",
      "class and instance attributes applies as for regular assignments.\n",
      "\n",
      "Related help topics: NUMBERMETHODS\n",
      "\n"
     ]
    }
   ],
   "source": [
    "help('+=')"
   ]
  },
  {
   "cell_type": "markdown",
   "metadata": {},
   "source": [
    "#### <a name = \"MultipleAssignment\">Multiple Assignment</a>\n",
    "\n",
    "Although not as frequently used, Python supports assigning multiple values at once. For instance, you can assign a number of variables to the same value like so:"
   ]
  },
  {
   "cell_type": "code",
   "execution_count": 10,
   "metadata": {},
   "outputs": [
    {
     "name": "stdout",
     "output_type": "stream",
     "text": [
      "123 123 123\n"
     ]
    }
   ],
   "source": [
    "varA = varB = varC = 123\n",
    "print(varA, varB, varC)"
   ]
  },
  {
   "cell_type": "markdown",
   "metadata": {},
   "source": [
    "Alternatively, you can assign a set of values to specific variables in one line like so:"
   ]
  },
  {
   "cell_type": "code",
   "execution_count": 11,
   "metadata": {},
   "outputs": [
    {
     "name": "stdout",
     "output_type": "stream",
     "text": [
      "3 4 5\n"
     ]
    }
   ],
   "source": [
    "varA, varB, varC = 3, 4, 5\n",
    "print(varA, varB, varC)"
   ]
  },
  {
   "cell_type": "markdown",
   "metadata": {},
   "source": [
    "It's ultimately up to you to decide if you want to use multiple assignment syntax."
   ]
  },
  {
   "cell_type": "markdown",
   "metadata": {},
   "source": [
    "#### <a name = \"DeletingVariables\">Deleting Variables</a>\n",
    "\n",
    "Variables can be unbound using the `del` statement:"
   ]
  },
  {
   "cell_type": "code",
   "execution_count": 12,
   "metadata": {},
   "outputs": [
    {
     "data": {
      "text/plain": [
       "5"
      ]
     },
     "execution_count": 12,
     "metadata": {},
     "output_type": "execute_result"
    }
   ],
   "source": [
    "varA = 5\n",
    "varA"
   ]
  },
  {
   "cell_type": "code",
   "execution_count": 13,
   "metadata": {},
   "outputs": [],
   "source": [
    "del(varA)"
   ]
  },
  {
   "cell_type": "code",
   "execution_count": 14,
   "metadata": {},
   "outputs": [
    {
     "ename": "NameError",
     "evalue": "name 'varA' is not defined",
     "output_type": "error",
     "traceback": [
      "\u001b[0;31m---------------------------------------------------------------------------\u001b[0m",
      "\u001b[0;31mNameError\u001b[0m                                 Traceback (most recent call last)",
      "\u001b[0;32m<ipython-input-14-7d022b5ef775>\u001b[0m in \u001b[0;36m<module>\u001b[0;34m\u001b[0m\n\u001b[0;32m----> 1\u001b[0;31m \u001b[0mvarA\u001b[0m\u001b[0;34m\u001b[0m\u001b[0;34m\u001b[0m\u001b[0m\n\u001b[0m",
      "\u001b[0;31mNameError\u001b[0m: name 'varA' is not defined"
     ]
    }
   ],
   "source": [
    "varA"
   ]
  },
  {
   "cell_type": "markdown",
   "metadata": {},
   "source": [
    "---\n",
    "### <a name = \"DataStructures\">Data Structures</a>\n",
    "\n",
    "Now that we've covered the basics of variables, let's talk about basic data structures in Python. Python supports a variety of built-in data structures for storing sets of values in a particular order, and these are known as [*sequences*](https://docs.python.org/3/library/stdtypes.html#typesseq). We've already covered one type of sequence, the text sequence, which involves one or more characters that for a string (i.e., `str`). Other types of ordered sequences include:\n",
    "\n",
    "- Lists: `list`\n",
    "- Tuples: `tuple`\n",
    "\n",
    "In addition to these ordered sequences, Python supports unordered collections of data using structures such as:\n",
    "\n",
    "- Sets: `set`\n",
    "- Dictionaries: `dict`\n",
    "\n",
    "Moreover, through the use of modules, Python can be extended to support a wide range of additional structures, including the following that are commonplace in data science:\n",
    "\n",
    "- numpy.array ([NumPy](https://numpy.org/doc/1.18/reference/generated/numpy.array.html))\n",
    "- pandas.DataFrame ([pandas](https://pandas.pydata.org/pandas-docs/stable/reference/api/pandas.DataFrame.html))\n",
    "\n",
    "This unit will focus on the built-in data structures, but in the following unit we will review the latter two (i.e., arrays and DataFrames). Among the built-in structures, lists, tuples, and sets will be covered in detail, whereas dictionaries will be briefly introduced since they aren't as commonly used in data science."
   ]
  },
  {
   "cell_type": "markdown",
   "metadata": {},
   "source": [
    "#### <a name = \"Lists\">Lists</a>\n",
    "\n",
    "Lists are one of the most basic and practically useful data structures in Python. At the most basic level, lists function similarly to an *array* (e.g., Java) and *vector* (e.g., R). They are designed to hold a collection of values (including duplicates) that can be changed (i.e., they are designed to be *mutable*). Lists are defined using a sequences of comma-separated values inside of square brackets:"
   ]
  },
  {
   "cell_type": "code",
   "execution_count": 18,
   "metadata": {},
   "outputs": [
    {
     "data": {
      "text/plain": [
       "[1, 2, 3]"
      ]
     },
     "execution_count": 18,
     "metadata": {},
     "output_type": "execute_result"
    }
   ],
   "source": [
    "[1, 2, 3]"
   ]
  },
  {
   "cell_type": "markdown",
   "metadata": {},
   "source": [
    "This list contains 3 numbers (i.e., 1, 2, and 3) in that order from left to right. Let's assign this array to a variable and call it back:"
   ]
  },
  {
   "cell_type": "code",
   "execution_count": 19,
   "metadata": {},
   "outputs": [
    {
     "data": {
      "text/plain": [
       "[1, 2, 3]"
      ]
     },
     "execution_count": 19,
     "metadata": {},
     "output_type": "execute_result"
    }
   ],
   "source": [
    "myList = [1, 2, 3]\n",
    "myList"
   ]
  },
  {
   "cell_type": "markdown",
   "metadata": {},
   "source": [
    "Note that the list has a specific type, which is defined as its structure:"
   ]
  },
  {
   "cell_type": "code",
   "execution_count": 20,
   "metadata": {},
   "outputs": [
    {
     "data": {
      "text/plain": [
       "list"
      ]
     },
     "execution_count": 20,
     "metadata": {},
     "output_type": "execute_result"
    }
   ],
   "source": [
    "type(myList)"
   ]
  },
  {
   "cell_type": "markdown",
   "metadata": {},
   "source": [
    "In Python, the individual values in the list can be of various types. For example, we can mix integers and strings in a list:"
   ]
  },
  {
   "cell_type": "code",
   "execution_count": 21,
   "metadata": {},
   "outputs": [],
   "source": [
    "myList = [1, 'two', 3]"
   ]
  },
  {
   "cell_type": "markdown",
   "metadata": {},
   "source": [
    "This resultant list still has the type `list`:"
   ]
  },
  {
   "cell_type": "code",
   "execution_count": 22,
   "metadata": {},
   "outputs": [
    {
     "data": {
      "text/plain": [
       "list"
      ]
     },
     "execution_count": 22,
     "metadata": {},
     "output_type": "execute_result"
    }
   ],
   "source": [
    "type(myList)"
   ]
  },
  {
   "cell_type": "markdown",
   "metadata": {},
   "source": [
    "Finally, note that lists can be multidimensional, meaning that you can -- if desired -- create a list of lists (although this isn't a particularly common thing that you'll likely need to do):"
   ]
  },
  {
   "cell_type": "code",
   "execution_count": 23,
   "metadata": {},
   "outputs": [
    {
     "data": {
      "text/plain": [
       "[[1, 2, 3], ['A', 'B']]"
      ]
     },
     "execution_count": 23,
     "metadata": {},
     "output_type": "execute_result"
    }
   ],
   "source": [
    "[[1, 2, 3], ['A', 'B']] # two lists within a list"
   ]
  },
  {
   "cell_type": "markdown",
   "metadata": {},
   "source": [
    "##### <a name = \"ListsAccessingElements\">**Accessing Elements**</a>\n",
    "\n",
    "To access specific elements of a list, we need to reference values by *index*, or position, using bracket notation. It's important to note that the first element will always be in position 0, and the last element will be in the n-1 position (where n is the number of elements in the list). For example:"
   ]
  },
  {
   "cell_type": "code",
   "execution_count": 24,
   "metadata": {},
   "outputs": [
    {
     "data": {
      "text/plain": [
       "1"
      ]
     },
     "execution_count": 24,
     "metadata": {},
     "output_type": "execute_result"
    }
   ],
   "source": [
    "myList[0]"
   ]
  },
  {
   "cell_type": "code",
   "execution_count": 25,
   "metadata": {},
   "outputs": [
    {
     "data": {
      "text/plain": [
       "'two'"
      ]
     },
     "execution_count": 25,
     "metadata": {},
     "output_type": "execute_result"
    }
   ],
   "source": [
    "myList[1]"
   ]
  },
  {
   "cell_type": "code",
   "execution_count": 26,
   "metadata": {},
   "outputs": [
    {
     "data": {
      "text/plain": [
       "3"
      ]
     },
     "execution_count": 26,
     "metadata": {},
     "output_type": "execute_result"
    }
   ],
   "source": [
    "myList[2]"
   ]
  },
  {
   "cell_type": "markdown",
   "metadata": {},
   "source": [
    "Note that since this list only contains 3 elements, the following statement will return an error:"
   ]
  },
  {
   "cell_type": "code",
   "execution_count": 27,
   "metadata": {},
   "outputs": [
    {
     "ename": "IndexError",
     "evalue": "list index out of range",
     "output_type": "error",
     "traceback": [
      "\u001b[0;31m---------------------------------------------------------------------------\u001b[0m",
      "\u001b[0;31mIndexError\u001b[0m                                Traceback (most recent call last)",
      "\u001b[0;32m<ipython-input-27-517bb9a74b7f>\u001b[0m in \u001b[0;36m<module>\u001b[0;34m\u001b[0m\n\u001b[0;32m----> 1\u001b[0;31m \u001b[0mmyList\u001b[0m\u001b[0;34m[\u001b[0m\u001b[0;36m3\u001b[0m\u001b[0;34m]\u001b[0m\u001b[0;34m\u001b[0m\u001b[0;34m\u001b[0m\u001b[0m\n\u001b[0m",
      "\u001b[0;31mIndexError\u001b[0m: list index out of range"
     ]
    }
   ],
   "source": [
    "myList[3]"
   ]
  },
  {
   "cell_type": "markdown",
   "metadata": {},
   "source": [
    "Negative indexing can also be used to return values, and these negative values work by starting at the end of the list and working backwards:"
   ]
  },
  {
   "cell_type": "code",
   "execution_count": 28,
   "metadata": {},
   "outputs": [
    {
     "data": {
      "text/plain": [
       "3"
      ]
     },
     "execution_count": 28,
     "metadata": {},
     "output_type": "execute_result"
    }
   ],
   "source": [
    "myList[-1]"
   ]
  },
  {
   "cell_type": "code",
   "execution_count": 29,
   "metadata": {},
   "outputs": [
    {
     "data": {
      "text/plain": [
       "'two'"
      ]
     },
     "execution_count": 29,
     "metadata": {},
     "output_type": "execute_result"
    }
   ],
   "source": [
    "myList[-2]"
   ]
  },
  {
   "cell_type": "code",
   "execution_count": 30,
   "metadata": {},
   "outputs": [
    {
     "data": {
      "text/plain": [
       "1"
      ]
     },
     "execution_count": 30,
     "metadata": {},
     "output_type": "execute_result"
    }
   ],
   "source": [
    "myList[-3]"
   ]
  },
  {
   "cell_type": "markdown",
   "metadata": {},
   "source": [
    "In addition, we can use list *slicing* to get multiple list elements at once:"
   ]
  },
  {
   "cell_type": "code",
   "execution_count": 31,
   "metadata": {},
   "outputs": [
    {
     "data": {
      "text/plain": [
       "['two', 3]"
      ]
     },
     "execution_count": 31,
     "metadata": {},
     "output_type": "execute_result"
    }
   ],
   "source": [
    "myList[1:3]"
   ]
  },
  {
   "cell_type": "markdown",
   "metadata": {},
   "source": [
    "In this simple example, the slice `1:3` is defined by a starting point (i.e., `1`) and ending point (i.e., `3`) such that for the ending point, the final value is not returned (i.e., the 3rd value in myList is in position `2`, which is one less than the ending point of the slice, `3`). To see this more clearly, let's use a longer list example:"
   ]
  },
  {
   "cell_type": "code",
   "execution_count": 32,
   "metadata": {},
   "outputs": [
    {
     "data": {
      "text/plain": [
       "[1, 2, 3, 4, 5, 6, 7, 8, 9, 10]"
      ]
     },
     "execution_count": 32,
     "metadata": {},
     "output_type": "execute_result"
    }
   ],
   "source": [
    "longerList = [1, 2, 3, 4, 5, 6, 7, 8, 9, 10]\n",
    "longerList"
   ]
  },
  {
   "cell_type": "code",
   "execution_count": 33,
   "metadata": {},
   "outputs": [
    {
     "data": {
      "text/plain": [
       "[1, 2, 3]"
      ]
     },
     "execution_count": 33,
     "metadata": {},
     "output_type": "execute_result"
    }
   ],
   "source": [
    "longerList[0:3]"
   ]
  },
  {
   "cell_type": "code",
   "execution_count": 34,
   "metadata": {},
   "outputs": [
    {
     "data": {
      "text/plain": [
       "[4, 5]"
      ]
     },
     "execution_count": 34,
     "metadata": {},
     "output_type": "execute_result"
    }
   ],
   "source": [
    "longerList[3:5]"
   ]
  },
  {
   "cell_type": "markdown",
   "metadata": {},
   "source": [
    "More advanced list slicing can also be performed by providing a third value to the slice. For instance, to get every other number in a specified range of the list, you could write:"
   ]
  },
  {
   "cell_type": "code",
   "execution_count": 35,
   "metadata": {},
   "outputs": [
    {
     "data": {
      "text/plain": [
       "[3, 5, 7, 9]"
      ]
     },
     "execution_count": 35,
     "metadata": {},
     "output_type": "execute_result"
    }
   ],
   "source": [
    "longerList[2:10:2]"
   ]
  },
  {
   "cell_type": "markdown",
   "metadata": {},
   "source": [
    "It's also possible to use negative indexing with slices (although note that this can quickly become confusing):"
   ]
  },
  {
   "cell_type": "code",
   "execution_count": 36,
   "metadata": {},
   "outputs": [
    {
     "data": {
      "text/plain": [
       "[6, 7, 8]"
      ]
     },
     "execution_count": 36,
     "metadata": {},
     "output_type": "execute_result"
    }
   ],
   "source": [
    "longerList[-5:-2]"
   ]
  },
  {
   "cell_type": "markdown",
   "metadata": {},
   "source": [
    "##### <a name = \"InAndNotIn\">**In and Not In**</a>\n",
    "\n",
    "In addition to extracting values from lists by index, we can also check if values exist in a list using the *sequence operators* ***in*** and ***not in***, which are useful when working with a collection of values. For example:"
   ]
  },
  {
   "cell_type": "code",
   "execution_count": 37,
   "metadata": {},
   "outputs": [
    {
     "data": {
      "text/plain": [
       "True"
      ]
     },
     "execution_count": 37,
     "metadata": {},
     "output_type": "execute_result"
    }
   ],
   "source": [
    "myList = [1, 'two', 3]\n",
    "'two' in myList"
   ]
  },
  {
   "cell_type": "code",
   "execution_count": 38,
   "metadata": {},
   "outputs": [
    {
     "data": {
      "text/plain": [
       "True"
      ]
     },
     "execution_count": 38,
     "metadata": {},
     "output_type": "execute_result"
    }
   ],
   "source": [
    "'three' not in myList"
   ]
  },
  {
   "cell_type": "markdown",
   "metadata": {},
   "source": [
    "With lists this short, these operators aren't particularly helpful, but they can come in handy when lists get large.\n",
    "\n",
    "Moreover, these operators will come in handy for a bunch of other uses will see in future units (e.g., for *iteration* and *control flow*)."
   ]
  },
  {
   "cell_type": "markdown",
   "metadata": {},
   "source": [
    "##### <a name = \"ListsUpdatingElements\">**Updating Elements**</a>\n",
    "\n",
    "List elements can be updated or modified by referencing by position. For instance, to change the first value to 100, we could do the following:"
   ]
  },
  {
   "cell_type": "code",
   "execution_count": 39,
   "metadata": {},
   "outputs": [],
   "source": [
    "myList = [1, 'two', 3]"
   ]
  },
  {
   "cell_type": "code",
   "execution_count": 40,
   "metadata": {},
   "outputs": [
    {
     "data": {
      "text/plain": [
       "[100, 'two', 3]"
      ]
     },
     "execution_count": 40,
     "metadata": {},
     "output_type": "execute_result"
    }
   ],
   "source": [
    "myList[0] = 100\n",
    "myList"
   ]
  },
  {
   "cell_type": "markdown",
   "metadata": {},
   "source": [
    "We could also change two values at once using a slice:"
   ]
  },
  {
   "cell_type": "code",
   "execution_count": 41,
   "metadata": {},
   "outputs": [
    {
     "data": {
      "text/plain": [
       "[100, 'two', 300]"
      ]
     },
     "execution_count": 41,
     "metadata": {},
     "output_type": "execute_result"
    }
   ],
   "source": [
    "myList = [1, 'two', 3] # reset the list\n",
    "myList[0:3:2] = 100, 300\n",
    "myList"
   ]
  },
  {
   "cell_type": "markdown",
   "metadata": {},
   "source": [
    "##### <a name = \"ListsAddingElements\">**Adding Elements**</a>\n",
    "\n",
    "Elements can be added to the end of a list using the *append* method:"
   ]
  },
  {
   "cell_type": "code",
   "execution_count": 42,
   "metadata": {},
   "outputs": [
    {
     "data": {
      "text/plain": [
       "[1, 'two', 3, 'four']"
      ]
     },
     "execution_count": 42,
     "metadata": {},
     "output_type": "execute_result"
    }
   ],
   "source": [
    "myList = [1, 'two', 3]\n",
    "myList.append('four')\n",
    "myList"
   ]
  },
  {
   "cell_type": "markdown",
   "metadata": {},
   "source": [
    "Note that appending an element does not require using the assignment operator to make the change permanent. This is because the *append* method is what's known as an *in-place* operation.\n",
    "\n",
    "You can also add multiple elements to a list simultaneously by using *extend* and supplying a list of values to be tacked on:"
   ]
  },
  {
   "cell_type": "code",
   "execution_count": 43,
   "metadata": {},
   "outputs": [
    {
     "data": {
      "text/plain": [
       "[1, 'two', 3, 'four', 5, 'six']"
      ]
     },
     "execution_count": 43,
     "metadata": {},
     "output_type": "execute_result"
    }
   ],
   "source": [
    "myList.extend([5, 'six'])\n",
    "myList"
   ]
  },
  {
   "cell_type": "markdown",
   "metadata": {},
   "source": [
    "Finally, you can insert a value in a specific position using the aptly named *insert* method:"
   ]
  },
  {
   "cell_type": "code",
   "execution_count": 44,
   "metadata": {},
   "outputs": [
    {
     "data": {
      "text/plain": [
       "[1, 'insertion', 'two', 3]"
      ]
     },
     "execution_count": 44,
     "metadata": {},
     "output_type": "execute_result"
    }
   ],
   "source": [
    "myList = [1, 'two', 3]\n",
    "myList.insert(1, 'insertion')\n",
    "myList"
   ]
  },
  {
   "cell_type": "markdown",
   "metadata": {},
   "source": [
    "##### <a name = \"ListsDeletingElements\">**Deleting Elements**</a>\n",
    "\n",
    "Elements can be deleted from a list using *del*:"
   ]
  },
  {
   "cell_type": "code",
   "execution_count": 45,
   "metadata": {},
   "outputs": [
    {
     "data": {
      "text/plain": [
       "[1, 3]"
      ]
     },
     "execution_count": 45,
     "metadata": {},
     "output_type": "execute_result"
    }
   ],
   "source": [
    "myList = [1, 'two', 3]\n",
    "del myList[1] # remove 2nd element\n",
    "myList"
   ]
  },
  {
   "cell_type": "markdown",
   "metadata": {},
   "source": [
    "Using slicing, you can also delete multiple elements at once:"
   ]
  },
  {
   "cell_type": "code",
   "execution_count": 46,
   "metadata": {},
   "outputs": [
    {
     "data": {
      "text/plain": [
       "[3]"
      ]
     },
     "execution_count": 46,
     "metadata": {},
     "output_type": "execute_result"
    }
   ],
   "source": [
    "myList = [1, 'two', 3]\n",
    "del myList[0:2]\n",
    "myList"
   ]
  },
  {
   "cell_type": "markdown",
   "metadata": {},
   "source": [
    "Alternatively, if you would like to both remove a value by position and return that value while doing so, you can use the *pop* method:"
   ]
  },
  {
   "cell_type": "code",
   "execution_count": 47,
   "metadata": {},
   "outputs": [
    {
     "data": {
      "text/plain": [
       "'two'"
      ]
     },
     "execution_count": 47,
     "metadata": {},
     "output_type": "execute_result"
    }
   ],
   "source": [
    "myList = [1, 'two', 3]\n",
    "myList.pop(1)"
   ]
  },
  {
   "cell_type": "code",
   "execution_count": 48,
   "metadata": {},
   "outputs": [
    {
     "data": {
      "text/plain": [
       "[1, 3]"
      ]
     },
     "execution_count": 48,
     "metadata": {},
     "output_type": "execute_result"
    }
   ],
   "source": [
    "myList"
   ]
  },
  {
   "cell_type": "markdown",
   "metadata": {},
   "source": [
    "Finally, you can use *remove* to remove by value rather than by position:"
   ]
  },
  {
   "cell_type": "code",
   "execution_count": 49,
   "metadata": {},
   "outputs": [
    {
     "data": {
      "text/plain": [
       "['two', 3]"
      ]
     },
     "execution_count": 49,
     "metadata": {},
     "output_type": "execute_result"
    }
   ],
   "source": [
    "myList = [1, 'two', 3]\n",
    "myList.remove(1)\n",
    "myList"
   ]
  },
  {
   "cell_type": "markdown",
   "metadata": {},
   "source": [
    "Note however that remove will only eliminate the first occurence of a value:"
   ]
  },
  {
   "cell_type": "code",
   "execution_count": 50,
   "metadata": {},
   "outputs": [
    {
     "data": {
      "text/plain": [
       "['two', 3, 1]"
      ]
     },
     "execution_count": 50,
     "metadata": {},
     "output_type": "execute_result"
    }
   ],
   "source": [
    "myList = [1, 'two', 3, 1]\n",
    "myList.remove(1)\n",
    "myList"
   ]
  },
  {
   "cell_type": "markdown",
   "metadata": {},
   "source": [
    "##### <a name = \"ListsJoining\">**Joining**</a>\n",
    "\n",
    "In the previous unit, we saw how text sequences can be concatenated (or put together) using the `+` operator. For example:"
   ]
  },
  {
   "cell_type": "code",
   "execution_count": 51,
   "metadata": {},
   "outputs": [
    {
     "data": {
      "text/plain": [
       "'Hello world!'"
      ]
     },
     "execution_count": 51,
     "metadata": {},
     "output_type": "execute_result"
    }
   ],
   "source": [
    "'Hello' + ' ' + 'world!' # concatenate multiple strings"
   ]
  },
  {
   "cell_type": "markdown",
   "metadata": {},
   "source": [
    "Lists can also be concatenated -- or combined -- in a similar fashion:"
   ]
  },
  {
   "cell_type": "code",
   "execution_count": 52,
   "metadata": {},
   "outputs": [
    {
     "data": {
      "text/plain": [
       "[1, 'two', 3, 'four', 5, 'six']"
      ]
     },
     "execution_count": 52,
     "metadata": {},
     "output_type": "execute_result"
    }
   ],
   "source": [
    "myListA = [1, 'two', 3]\n",
    "myListB = ['four', 5, 'six']\n",
    "\n",
    "myListA + myListB"
   ]
  },
  {
   "cell_type": "markdown",
   "metadata": {},
   "source": [
    "The result of adding the two lists would need to be stored in a variable if you planned on retaining it.\n",
    "\n",
    "Alternatively, you can also use *extend* to achieve the same result as an in-place operation:"
   ]
  },
  {
   "cell_type": "code",
   "execution_count": 53,
   "metadata": {},
   "outputs": [
    {
     "data": {
      "text/plain": [
       "[1, 'two', 3, 'four', 5, 'six']"
      ]
     },
     "execution_count": 53,
     "metadata": {},
     "output_type": "execute_result"
    }
   ],
   "source": [
    "myListA.extend(myListB)\n",
    "myListA"
   ]
  },
  {
   "cell_type": "markdown",
   "metadata": {},
   "source": [
    "##### <a name = \"ListsOtherMethods\">**Other Methods**</a>\n",
    "\n",
    "Python lists support a variety of other methods beyond ones you have already seen (e.g., *append* and *extend*). To see a list of these (no pun intended), see `help(list)`. A few common examples follow:"
   ]
  },
  {
   "cell_type": "code",
   "execution_count": 54,
   "metadata": {},
   "outputs": [
    {
     "data": {
      "text/plain": [
       "3"
      ]
     },
     "execution_count": 54,
     "metadata": {},
     "output_type": "execute_result"
    }
   ],
   "source": [
    "# len (return the length of the list)\n",
    "myList = [1, 'two', 3]\n",
    "len(myList)"
   ]
  },
  {
   "cell_type": "code",
   "execution_count": 55,
   "metadata": {},
   "outputs": [
    {
     "data": {
      "text/plain": [
       "[]"
      ]
     },
     "execution_count": 55,
     "metadata": {},
     "output_type": "execute_result"
    }
   ],
   "source": [
    "# clear (empty the list entirely)\n",
    "myList = [1, 'two', 3]\n",
    "myList.clear()\n",
    "myList"
   ]
  },
  {
   "cell_type": "code",
   "execution_count": 56,
   "metadata": {},
   "outputs": [
    {
     "data": {
      "text/plain": [
       "[3, 'two', 1]"
      ]
     },
     "execution_count": 56,
     "metadata": {},
     "output_type": "execute_result"
    }
   ],
   "source": [
    "# reverse (reverse the list)\n",
    "myList = [1, 'two', 3]\n",
    "myList.reverse()\n",
    "myList"
   ]
  },
  {
   "cell_type": "code",
   "execution_count": 57,
   "metadata": {},
   "outputs": [
    {
     "data": {
      "text/plain": [
       "3"
      ]
     },
     "execution_count": 57,
     "metadata": {},
     "output_type": "execute_result"
    }
   ],
   "source": [
    "# count (count the number of times a specified value appears in the list)\n",
    "myList = ['A', 'B', 'A', 'B', 'C', 'B', 'C', 'C']\n",
    "myList.count('C')"
   ]
  },
  {
   "cell_type": "code",
   "execution_count": 58,
   "metadata": {},
   "outputs": [
    {
     "data": {
      "text/plain": [
       "4"
      ]
     },
     "execution_count": 58,
     "metadata": {},
     "output_type": "execute_result"
    }
   ],
   "source": [
    "# index (return the position of the first instance of a value in the list)\n",
    "myList = ['A', 'B', 'A', 'B', 'C', 'B', 'C', 'C']\n",
    "myList.index('C')"
   ]
  },
  {
   "cell_type": "code",
   "execution_count": 59,
   "metadata": {},
   "outputs": [
    {
     "data": {
      "text/plain": [
       "[2, 2, 4, 5, 7]"
      ]
     },
     "execution_count": 59,
     "metadata": {},
     "output_type": "execute_result"
    }
   ],
   "source": [
    "# sort (sort the list)\n",
    "myList = [4, 7, 2, 2, 5]\n",
    "myList.sort()\n",
    "myList"
   ]
  },
  {
   "cell_type": "markdown",
   "metadata": {},
   "source": [
    "##### <a name = \"ListsGeneratingRanges\">**Generating Ranges**</a>\n",
    "\n",
    "In an earlier example, we create a list of ten numbers by hand:"
   ]
  },
  {
   "cell_type": "code",
   "execution_count": 60,
   "metadata": {},
   "outputs": [],
   "source": [
    "longerList = [1, 2, 3, 4, 5, 6, 7, 8, 9, 10]"
   ]
  },
  {
   "cell_type": "markdown",
   "metadata": {},
   "source": [
    "Creating a list like this requires a lot of typing even with just ten values. To create integer ranges in Python quickly and conviently, consider using the *range* function:"
   ]
  },
  {
   "cell_type": "code",
   "execution_count": 61,
   "metadata": {},
   "outputs": [
    {
     "data": {
      "text/plain": [
       "[1, 2, 3, 4, 5, 6, 7, 8, 9, 10]"
      ]
     },
     "execution_count": 61,
     "metadata": {},
     "output_type": "execute_result"
    }
   ],
   "source": [
    "list(range(1, 11))"
   ]
  },
  {
   "cell_type": "markdown",
   "metadata": {},
   "source": [
    "Note that similar to slicing, the first argument to `range` is the first value in the resulting list, whereas the second number is the last number, which isn't actually included. In other words, in the example above, to get a list from 1 to 10, the second argument to `range` must be 11.\n",
    "\n",
    "Also, be aware that range can take negative values in the arguments:"
   ]
  },
  {
   "cell_type": "code",
   "execution_count": 62,
   "metadata": {},
   "outputs": [
    {
     "data": {
      "text/plain": [
       "[-3, -2, -1, 0, 1, 2, 3]"
      ]
     },
     "execution_count": 62,
     "metadata": {},
     "output_type": "execute_result"
    }
   ],
   "source": [
    "list(range(-3, 4))"
   ]
  },
  {
   "cell_type": "markdown",
   "metadata": {},
   "source": [
    "Using the other list methods described above, you can also get reverse number ranges. For instance:"
   ]
  },
  {
   "cell_type": "code",
   "execution_count": 63,
   "metadata": {},
   "outputs": [
    {
     "data": {
      "text/plain": [
       "[3, 2, 1, 0, -1, -2, -3]"
      ]
     },
     "execution_count": 63,
     "metadata": {},
     "output_type": "execute_result"
    }
   ],
   "source": [
    "revRange = list(range(-3, 4))\n",
    "revRange.reverse()\n",
    "revRange"
   ]
  },
  {
   "cell_type": "markdown",
   "metadata": {},
   "source": [
    "#### <a name = \"Tuples\">Tuples</a>\n",
    "\n",
    "Tuples are very similar to lists (i.e., a collection of values in a specific order that can include duplicates) with one major difference: tuples are *immutable*, meaning they cannot be changed once created. To define a tuple, we use parentheses instead of brackets:"
   ]
  },
  {
   "cell_type": "code",
   "execution_count": 64,
   "metadata": {},
   "outputs": [
    {
     "data": {
      "text/plain": [
       "('cat', 'dog', 'fish')"
      ]
     },
     "execution_count": 64,
     "metadata": {},
     "output_type": "execute_result"
    }
   ],
   "source": [
    "('cat', 'dog', 'fish')"
   ]
  },
  {
   "cell_type": "markdown",
   "metadata": {},
   "source": [
    "Unsurprisingly, the type of a tuple is `tuple`:"
   ]
  },
  {
   "cell_type": "code",
   "execution_count": 65,
   "metadata": {},
   "outputs": [
    {
     "data": {
      "text/plain": [
       "('cat', 'dog', 'fish')"
      ]
     },
     "metadata": {},
     "output_type": "display_data"
    },
    {
     "data": {
      "text/plain": [
       "tuple"
      ]
     },
     "metadata": {},
     "output_type": "display_data"
    }
   ],
   "source": [
    "myTuple = ('cat', 'dog', 'fish')\n",
    "display(myTuple, type(myTuple))"
   ]
  },
  {
   "cell_type": "markdown",
   "metadata": {},
   "source": [
    "One important note with tuples: to create a tuple with a single element, you must put a comma at the end of the sequence. For example:"
   ]
  },
  {
   "cell_type": "code",
   "execution_count": 66,
   "metadata": {},
   "outputs": [
    {
     "data": {
      "text/plain": [
       "('cat',)"
      ]
     },
     "metadata": {},
     "output_type": "display_data"
    },
    {
     "data": {
      "text/plain": [
       "tuple"
      ]
     },
     "metadata": {},
     "output_type": "display_data"
    }
   ],
   "source": [
    "catTuple = ('cat',)\n",
    "display(catTuple, type(catTuple))"
   ]
  },
  {
   "cell_type": "markdown",
   "metadata": {},
   "source": [
    "Without the final comma, you will not actually end up with a tuple if supplying only one value:"
   ]
  },
  {
   "cell_type": "code",
   "execution_count": 67,
   "metadata": {},
   "outputs": [
    {
     "data": {
      "text/plain": [
       "'cat'"
      ]
     },
     "metadata": {},
     "output_type": "display_data"
    },
    {
     "data": {
      "text/plain": [
       "str"
      ]
     },
     "metadata": {},
     "output_type": "display_data"
    }
   ],
   "source": [
    "notTuple = ('cat')\n",
    "display(notTuple, type(notTuple))"
   ]
  },
  {
   "cell_type": "markdown",
   "metadata": {},
   "source": [
    "##### <a name = \"TuplesAccessingElements\">**Accessing Elements**</a>\n",
    "\n",
    "Similar to lists (i.e., see above for more details), tuples elements can be accessed by position:"
   ]
  },
  {
   "cell_type": "code",
   "execution_count": 68,
   "metadata": {},
   "outputs": [
    {
     "name": "stdout",
     "output_type": "stream",
     "text": [
      "cat fish\n"
     ]
    }
   ],
   "source": [
    "print(myTuple[0], myTuple[2]) # first and last elements of myTuple"
   ]
  },
  {
   "cell_type": "markdown",
   "metadata": {},
   "source": [
    "Negative indexing and slicing may also be used:"
   ]
  },
  {
   "cell_type": "code",
   "execution_count": 69,
   "metadata": {},
   "outputs": [
    {
     "data": {
      "text/plain": [
       "'dog'"
      ]
     },
     "execution_count": 69,
     "metadata": {},
     "output_type": "execute_result"
    }
   ],
   "source": [
    "myTuple[-2] # return last element"
   ]
  },
  {
   "cell_type": "code",
   "execution_count": 70,
   "metadata": {},
   "outputs": [
    {
     "data": {
      "text/plain": [
       "('dog', 'fish')"
      ]
     },
     "execution_count": 70,
     "metadata": {},
     "output_type": "execute_result"
    }
   ],
   "source": [
    "myTuple[1:3] # return 2nd and 3rd element"
   ]
  },
  {
   "cell_type": "markdown",
   "metadata": {},
   "source": [
    "Finally, sequence operators such as `in` and `not in` apply to tuples as well:"
   ]
  },
  {
   "cell_type": "code",
   "execution_count": 71,
   "metadata": {},
   "outputs": [
    {
     "data": {
      "text/plain": [
       "False"
      ]
     },
     "execution_count": 71,
     "metadata": {},
     "output_type": "execute_result"
    }
   ],
   "source": [
    "'puppy' in myTuple"
   ]
  },
  {
   "cell_type": "markdown",
   "metadata": {},
   "source": [
    "##### <a name = \"TuplesUpdatingAddingDeletingElements\">**Updating/Adding/Deleting Elements**</a>\n",
    "\n",
    "As noted above, tuples are not meant to be changed once they are created, meaning you cannot update values, add new ones, or delete existing ones.\n",
    "\n",
    "Trying to do any of these operations will result in an error:"
   ]
  },
  {
   "cell_type": "code",
   "execution_count": 72,
   "metadata": {},
   "outputs": [
    {
     "ename": "TypeError",
     "evalue": "'tuple' object does not support item assignment",
     "output_type": "error",
     "traceback": [
      "\u001b[0;31m---------------------------------------------------------------------------\u001b[0m",
      "\u001b[0;31mTypeError\u001b[0m                                 Traceback (most recent call last)",
      "\u001b[0;32m<ipython-input-72-0258ede5121c>\u001b[0m in \u001b[0;36m<module>\u001b[0;34m\u001b[0m\n\u001b[0;32m----> 1\u001b[0;31m \u001b[0mmyTuple\u001b[0m\u001b[0;34m[\u001b[0m\u001b[0;36m1\u001b[0m\u001b[0;34m]\u001b[0m \u001b[0;34m=\u001b[0m \u001b[0;34m'hamster'\u001b[0m \u001b[0;31m# attempting to change the 2nd value to 'hamster'\u001b[0m\u001b[0;34m\u001b[0m\u001b[0;34m\u001b[0m\u001b[0m\n\u001b[0m",
      "\u001b[0;31mTypeError\u001b[0m: 'tuple' object does not support item assignment"
     ]
    }
   ],
   "source": [
    "myTuple[1] = 'hamster' # attempting to change the 2nd value to 'hamster'"
   ]
  },
  {
   "cell_type": "markdown",
   "metadata": {},
   "source": [
    "That being said, if you do need to make edits to a tuple, you can convert it to a list quickly and easily as needed using the *list* function:"
   ]
  },
  {
   "cell_type": "code",
   "execution_count": 73,
   "metadata": {},
   "outputs": [
    {
     "data": {
      "text/plain": [
       "['cat', 'dog', 'fish']"
      ]
     },
     "metadata": {},
     "output_type": "display_data"
    },
    {
     "data": {
      "text/plain": [
       "list"
      ]
     },
     "metadata": {},
     "output_type": "display_data"
    }
   ],
   "source": [
    "myList = list(myTuple)\n",
    "display(myList, type(myList))"
   ]
  },
  {
   "cell_type": "markdown",
   "metadata": {},
   "source": [
    "Once converted to a list, the regular rules for lists apply; for example:"
   ]
  },
  {
   "cell_type": "code",
   "execution_count": 74,
   "metadata": {},
   "outputs": [
    {
     "data": {
      "text/plain": [
       "['cat', 'hamster', 'fish']"
      ]
     },
     "execution_count": 74,
     "metadata": {},
     "output_type": "execute_result"
    }
   ],
   "source": [
    "myList[1] = 'hamster'\n",
    "myList"
   ]
  },
  {
   "cell_type": "markdown",
   "metadata": {},
   "source": [
    "If desired, you can also convert your list back to a tuple using the *tuple* function:"
   ]
  },
  {
   "cell_type": "code",
   "execution_count": 75,
   "metadata": {},
   "outputs": [
    {
     "data": {
      "text/plain": [
       "('cat', 'hamster', 'fish')"
      ]
     },
     "metadata": {},
     "output_type": "display_data"
    },
    {
     "data": {
      "text/plain": [
       "tuple"
      ]
     },
     "metadata": {},
     "output_type": "display_data"
    }
   ],
   "source": [
    "myTuple = tuple(myList)\n",
    "display(myTuple, type(myTuple))"
   ]
  },
  {
   "cell_type": "markdown",
   "metadata": {},
   "source": [
    "##### <a name = \"TuplesJoining\">**Joining**</a>\n",
    "\n",
    "Again, similar to lists, tuples can be combined via concatenation:"
   ]
  },
  {
   "cell_type": "code",
   "execution_count": 76,
   "metadata": {},
   "outputs": [
    {
     "data": {
      "text/plain": [
       "('cat', 'dog', 'fish', 'kitten', 'puppy')"
      ]
     },
     "execution_count": 76,
     "metadata": {},
     "output_type": "execute_result"
    }
   ],
   "source": [
    "myTupleA = ('cat', 'dog', 'fish')\n",
    "myTupleB = ('kitten', 'puppy')\n",
    "\n",
    "myTupleA + myTupleB"
   ]
  },
  {
   "cell_type": "markdown",
   "metadata": {},
   "source": [
    "##### <a name = \"TuplesOtherMethods\">**Other Methods**</a>\n",
    "\n",
    "Given all the restrictions surrounding tuples, the options for working with them are limited when compared to lists. As per `help(tuple)`, the main options are essentially *count* and *index*, which have similar functionality in lists:"
   ]
  },
  {
   "cell_type": "code",
   "execution_count": 77,
   "metadata": {},
   "outputs": [
    {
     "data": {
      "text/plain": [
       "2"
      ]
     },
     "execution_count": 77,
     "metadata": {},
     "output_type": "execute_result"
    }
   ],
   "source": [
    "# count (count the number of times a specified value appears in the tuple)\n",
    "myLongerTuple = ('cat', 'dog', 'cat', 'dog', 'fish', 'dog', 'fish')\n",
    "myLongerTuple.count('fish')"
   ]
  },
  {
   "cell_type": "code",
   "execution_count": 78,
   "metadata": {},
   "outputs": [
    {
     "data": {
      "text/plain": [
       "4"
      ]
     },
     "execution_count": 78,
     "metadata": {},
     "output_type": "execute_result"
    }
   ],
   "source": [
    "# index (return the position of the first instance of a value in the tuple)\n",
    "myLongerTuple = ('cat', 'dog', 'cat', 'dog', 'fish', 'dog', 'fish')\n",
    "myLongerTuple.index('fish')"
   ]
  },
  {
   "cell_type": "markdown",
   "metadata": {},
   "source": [
    "Various other methods that also work for lists (and other structures involving collections of values) apply to tuples as well, including `len`:"
   ]
  },
  {
   "cell_type": "code",
   "execution_count": 79,
   "metadata": {},
   "outputs": [
    {
     "data": {
      "text/plain": [
       "7"
      ]
     },
     "execution_count": 79,
     "metadata": {},
     "output_type": "execute_result"
    }
   ],
   "source": [
    "myLongerTuple = ('cat', 'dog', 'cat', 'dog', 'fish', 'dog', 'fish')\n",
    "len(myLongerTuple)"
   ]
  },
  {
   "cell_type": "markdown",
   "metadata": {},
   "source": [
    "#### <a name = \"Sets\">Sets</a>\n",
    "\n",
    "Unlike lists and tuples, sets are unordered collections of values (i.e., values have no indicies/positions), and they cannot contain duplicates. Moreover, they are more similar to tuples in that they are immutable and not meant to be changed once created.\n",
    "\n",
    "To create a set, we use curly braces:"
   ]
  },
  {
   "cell_type": "code",
   "execution_count": 80,
   "metadata": {},
   "outputs": [
    {
     "data": {
      "text/plain": [
       "{'blue', 'green', 'yellow'}"
      ]
     },
     "execution_count": 80,
     "metadata": {},
     "output_type": "execute_result"
    }
   ],
   "source": [
    "{'yellow', 'green', 'blue'}"
   ]
  },
  {
   "cell_type": "markdown",
   "metadata": {},
   "source": [
    "You'll notice when the set is defined, it is automatically placed in alphabetical order when display: remember, however, that sets do not contain an order per se, and as such position within the set is completely arbitrary. Let's assign our set to a variable and check its type:"
   ]
  },
  {
   "cell_type": "code",
   "execution_count": 81,
   "metadata": {},
   "outputs": [
    {
     "data": {
      "text/plain": [
       "{'blue', 'green', 'yellow'}"
      ]
     },
     "metadata": {},
     "output_type": "display_data"
    },
    {
     "data": {
      "text/plain": [
       "set"
      ]
     },
     "metadata": {},
     "output_type": "display_data"
    }
   ],
   "source": [
    "mySet = {'yellow', 'green', 'blue'}\n",
    "display(mySet, type(mySet))"
   ]
  },
  {
   "cell_type": "markdown",
   "metadata": {},
   "source": [
    "Unsurprisingly, the type is `set`."
   ]
  },
  {
   "cell_type": "markdown",
   "metadata": {},
   "source": [
    "##### <a name = \"SetsAccessingElements\">**Accessing Elements**</a>\n",
    "\n",
    "Since sets do not have indicies, we can't use the bracket approach that applies to lists and tuples. Nevertheless, we can still use the sequence operators `in` and `not in` described earlier to check if values exist a set or not:"
   ]
  },
  {
   "cell_type": "code",
   "execution_count": 82,
   "metadata": {},
   "outputs": [
    {
     "data": {
      "text/plain": [
       "True"
      ]
     },
     "execution_count": 82,
     "metadata": {},
     "output_type": "execute_result"
    }
   ],
   "source": [
    "'green' in mySet"
   ]
  },
  {
   "cell_type": "code",
   "execution_count": 83,
   "metadata": {},
   "outputs": [
    {
     "data": {
      "text/plain": [
       "True"
      ]
     },
     "execution_count": 83,
     "metadata": {},
     "output_type": "execute_result"
    }
   ],
   "source": [
    "'red' not in mySet"
   ]
  },
  {
   "cell_type": "markdown",
   "metadata": {},
   "source": [
    "Additionally, while it's something we'll cover in more detail later, we can also use iteration for sets and other types of sequences to extract values one-at-a-time:"
   ]
  },
  {
   "cell_type": "code",
   "execution_count": 84,
   "metadata": {},
   "outputs": [
    {
     "name": "stdout",
     "output_type": "stream",
     "text": [
      "yellow\n",
      "green\n",
      "blue\n"
     ]
    }
   ],
   "source": [
    "mySet = {'yellow', 'green', 'blue'}\n",
    "\n",
    "for eachVal in mySet:\n",
    "    print(eachVal)"
   ]
  },
  {
   "cell_type": "markdown",
   "metadata": {},
   "source": [
    "##### <a name = \"SetsUpdatingElements\">**Updating Elements**</a>\n",
    "\n",
    "As noted above, sets are immutable and the values contained within cannot be changed once they are created. As a workaround however, you can add a new element and delete the existing one you wanted to change using the code described in the following two sections."
   ]
  },
  {
   "cell_type": "markdown",
   "metadata": {},
   "source": [
    "##### <a name = \"SetsAddingElements\">**Adding Elements**</a>\n",
    "\n",
    "It is possible to add elements to a set, although given the lack of indicies, we can really only append them.\n",
    "\n",
    "To add a single element, use the *add* method:"
   ]
  },
  {
   "cell_type": "code",
   "execution_count": 85,
   "metadata": {},
   "outputs": [
    {
     "data": {
      "text/plain": [
       "{'blue', 'green', 'purple', 'yellow'}"
      ]
     },
     "execution_count": 85,
     "metadata": {},
     "output_type": "execute_result"
    }
   ],
   "source": [
    "mySet = {'yellow', 'green', 'blue'}\n",
    "mySet.add('purple')\n",
    "mySet"
   ]
  },
  {
   "cell_type": "markdown",
   "metadata": {},
   "source": [
    "To add multiple elements, use the *update* method:"
   ]
  },
  {
   "cell_type": "code",
   "execution_count": 86,
   "metadata": {},
   "outputs": [
    {
     "data": {
      "text/plain": [
       "{'blue', 'green', 'pink', 'purple', 'yellow'}"
      ]
     },
     "execution_count": 86,
     "metadata": {},
     "output_type": "execute_result"
    }
   ],
   "source": [
    "mySet = {'yellow', 'green', 'blue'}\n",
    "mySet.update({'purple', 'pink'}) # you can also supply a list, tuple, etc. as the argument to update\n",
    "mySet"
   ]
  },
  {
   "cell_type": "markdown",
   "metadata": {},
   "source": [
    "##### <a name = \"SetsDeletingElements\">**Deleting Elements**</a>\n",
    "\n",
    "It is possible to delete elements from a set using various methods. These include:"
   ]
  },
  {
   "cell_type": "code",
   "execution_count": 87,
   "metadata": {},
   "outputs": [
    {
     "data": {
      "text/plain": [
       "{'blue', 'yellow'}"
      ]
     },
     "execution_count": 87,
     "metadata": {},
     "output_type": "execute_result"
    }
   ],
   "source": [
    "# remove (delete an element by value and return an error if the value is not found)\n",
    "mySet = {'yellow', 'green', 'blue'}\n",
    "mySet.remove('green')\n",
    "mySet"
   ]
  },
  {
   "cell_type": "code",
   "execution_count": 88,
   "metadata": {},
   "outputs": [
    {
     "data": {
      "text/plain": [
       "{'blue', 'green', 'yellow'}"
      ]
     },
     "execution_count": 88,
     "metadata": {},
     "output_type": "execute_result"
    }
   ],
   "source": [
    "# discard (delete an element by value but do not return an error if the value is not found)\n",
    "mySet = {'yellow', 'green', 'blue'}\n",
    "mySet.discard('purple') # not in the set, but not a problem\n",
    "mySet"
   ]
  },
  {
   "cell_type": "code",
   "execution_count": 89,
   "metadata": {},
   "outputs": [
    {
     "data": {
      "text/plain": [
       "set()"
      ]
     },
     "execution_count": 89,
     "metadata": {},
     "output_type": "execute_result"
    }
   ],
   "source": [
    "# clear (empty the set completely)\n",
    "mySet = {'yellow', 'green', 'blue'}\n",
    "mySet.clear()\n",
    "mySet"
   ]
  },
  {
   "cell_type": "code",
   "execution_count": 90,
   "metadata": {},
   "outputs": [
    {
     "data": {
      "text/plain": [
       "{'blue', 'green', 'yellow'}"
      ]
     },
     "metadata": {},
     "output_type": "display_data"
    },
    {
     "data": {
      "text/plain": [
       "'yellow'"
      ]
     },
     "metadata": {},
     "output_type": "display_data"
    },
    {
     "data": {
      "text/plain": [
       "{'blue', 'green'}"
      ]
     },
     "metadata": {},
     "output_type": "display_data"
    }
   ],
   "source": [
    "# pop (delete the first element from the set while also returning the value)\n",
    "mySet = {'yellow', 'green', 'blue'}\n",
    "display(mySet)\n",
    "display(mySet.pop()) # note the first value is based on the alphabetical sorting\n",
    "display(mySet)"
   ]
  },
  {
   "cell_type": "markdown",
   "metadata": {},
   "source": [
    "##### <a name = \"SetsJoining\">**Joining**</a>\n",
    "\n",
    "There are several methods for joining two sets. The primary ones involve the methods *union* and *update*. Regarding the former, `union` will return all the items across the two sets while omitting duplicates:"
   ]
  },
  {
   "cell_type": "code",
   "execution_count": 91,
   "metadata": {},
   "outputs": [
    {
     "data": {
      "text/plain": [
       "{'blue', 'green', 'orange', 'purple', 'red', 'yellow'}"
      ]
     },
     "execution_count": 91,
     "metadata": {},
     "output_type": "execute_result"
    }
   ],
   "source": [
    "mySetA = {'yellow', 'green', 'blue', 'purple', 'red'}\n",
    "mySetB = {'green', 'red', 'orange'}\n",
    "\n",
    "mySetA.union(mySetB)"
   ]
  },
  {
   "cell_type": "markdown",
   "metadata": {},
   "source": [
    "Note that union returns the result of the operation but does not update either set:"
   ]
  },
  {
   "cell_type": "code",
   "execution_count": 92,
   "metadata": {},
   "outputs": [
    {
     "data": {
      "text/plain": [
       "{'blue', 'green', 'purple', 'red', 'yellow'}"
      ]
     },
     "metadata": {},
     "output_type": "display_data"
    },
    {
     "data": {
      "text/plain": [
       "{'green', 'orange', 'red'}"
      ]
     },
     "metadata": {},
     "output_type": "display_data"
    }
   ],
   "source": [
    "display(mySetA, mySetB)"
   ]
  },
  {
   "cell_type": "code",
   "execution_count": 93,
   "metadata": {},
   "outputs": [
    {
     "ename": "SyntaxError",
     "evalue": "invalid syntax (<ipython-input-93-9f37e433f274>, line 1)",
     "output_type": "error",
     "traceback": [
      "\u001b[0;36m  File \u001b[0;32m\"<ipython-input-93-9f37e433f274>\"\u001b[0;36m, line \u001b[0;32m1\u001b[0m\n\u001b[0;31m    To perform the operation in-place, use `update`:\u001b[0m\n\u001b[0m       ^\u001b[0m\n\u001b[0;31mSyntaxError\u001b[0m\u001b[0;31m:\u001b[0m invalid syntax\n"
     ]
    }
   ],
   "source": [
    "To perform the operation in-place, use `update`:"
   ]
  },
  {
   "cell_type": "code",
   "execution_count": 94,
   "metadata": {},
   "outputs": [
    {
     "data": {
      "text/plain": [
       "{'blue', 'green', 'orange', 'purple', 'red', 'yellow'}"
      ]
     },
     "execution_count": 94,
     "metadata": {},
     "output_type": "execute_result"
    }
   ],
   "source": [
    "mySetA.update(mySetB)\n",
    "mySetA"
   ]
  },
  {
   "cell_type": "markdown",
   "metadata": {},
   "source": [
    "In this case, `mySetA` is updated, while `mySetB` is untouched:"
   ]
  },
  {
   "cell_type": "code",
   "execution_count": 95,
   "metadata": {},
   "outputs": [
    {
     "data": {
      "text/plain": [
       "{'green', 'orange', 'red'}"
      ]
     },
     "execution_count": 95,
     "metadata": {},
     "output_type": "execute_result"
    }
   ],
   "source": [
    "mySetB"
   ]
  },
  {
   "cell_type": "markdown",
   "metadata": {},
   "source": [
    "Finally, note that union and update can also be performed using symbols using `|` and `|=` respectively:"
   ]
  },
  {
   "cell_type": "code",
   "execution_count": 96,
   "metadata": {},
   "outputs": [
    {
     "data": {
      "text/plain": [
       "{'blue', 'green', 'orange', 'purple', 'red', 'yellow'}"
      ]
     },
     "execution_count": 96,
     "metadata": {},
     "output_type": "execute_result"
    }
   ],
   "source": [
    "mySetA = {'yellow', 'green', 'blue', 'purple', 'red'}\n",
    "mySetB = {'green', 'red', 'orange'}\n",
    "\n",
    "mySetA | mySetB # equivalent to union"
   ]
  },
  {
   "cell_type": "code",
   "execution_count": 97,
   "metadata": {},
   "outputs": [
    {
     "data": {
      "text/plain": [
       "{'blue', 'green', 'orange', 'purple', 'red', 'yellow'}"
      ]
     },
     "execution_count": 97,
     "metadata": {},
     "output_type": "execute_result"
    }
   ],
   "source": [
    "mySetA |= mySetB # equivalent to update (i.e., mySetA is changed in-place)\n",
    "mySetA"
   ]
  },
  {
   "cell_type": "markdown",
   "metadata": {},
   "source": [
    "##### <a name = \"SetsOtherMethods\">**Other Methods**</a>\n",
    "\n",
    "As noted in `help(set)`, sets support other methods that can come in handy. Some such as `len` work with sets just like they do for other structures such as lists and tuples.  Others are specific to sets; for instance, you can use set operators such as *intersection* and *difference* to make comparisons across two different sets, and these work in a fashion conceptually similar to structured query language (SQL):"
   ]
  },
  {
   "cell_type": "code",
   "execution_count": 98,
   "metadata": {},
   "outputs": [
    {
     "data": {
      "text/plain": [
       "{'green', 'red'}"
      ]
     },
     "execution_count": 98,
     "metadata": {},
     "output_type": "execute_result"
    }
   ],
   "source": [
    "# intersection (returns a set of values that appear across both sets without duplicates)\n",
    "mySetA = {'yellow', 'green', 'blue', 'purple', 'red'}\n",
    "mySetB = {'green', 'red', 'orange'}\n",
    "mySetA.intersection(mySetB)"
   ]
  },
  {
   "cell_type": "code",
   "execution_count": 99,
   "metadata": {},
   "outputs": [
    {
     "data": {
      "text/plain": [
       "{'blue', 'purple', 'yellow'}"
      ]
     },
     "execution_count": 99,
     "metadata": {},
     "output_type": "execute_result"
    }
   ],
   "source": [
    "# difference (returns the values that appear in one set but not the other)\n",
    "mySetA = {'yellow', 'green', 'blue', 'purple', 'red'}\n",
    "mySetB = {'green', 'red', 'orange'}\n",
    "mySetA.difference(mySetB)"
   ]
  },
  {
   "cell_type": "markdown",
   "metadata": {},
   "source": [
    "Other functions can be used to see if one set is contained in another:"
   ]
  },
  {
   "cell_type": "code",
   "execution_count": 100,
   "metadata": {},
   "outputs": [
    {
     "data": {
      "text/plain": [
       "True"
      ]
     },
     "execution_count": 100,
     "metadata": {},
     "output_type": "execute_result"
    }
   ],
   "source": [
    "# superset (returns True or False depending on whether the argument set is contained in the overarching set or not)\n",
    "mySetA = {'yellow', 'green', 'blue', 'purple', 'red'}\n",
    "mySetB = {'green', 'red'}\n",
    "mySetA.issuperset(mySetB)"
   ]
  },
  {
   "cell_type": "code",
   "execution_count": 101,
   "metadata": {},
   "outputs": [
    {
     "data": {
      "text/plain": [
       "True"
      ]
     },
     "execution_count": 101,
     "metadata": {},
     "output_type": "execute_result"
    }
   ],
   "source": [
    "# subset (returns True or False depending on whether the argument set is contained in the overarching set or not)\n",
    "mySetA = {'yellow', 'green', 'blue', 'purple', 'red'}\n",
    "mySetB = {'green', 'red'}\n",
    "mySetB.issubset(mySetA) # note this is essentially the inverse of superset above (mySetA and mySetB were swapped in the call)"
   ]
  },
  {
   "cell_type": "markdown",
   "metadata": {},
   "source": [
    "Again, see `help(set)` for additional methods."
   ]
  },
  {
   "cell_type": "markdown",
   "metadata": {},
   "source": [
    "#### <a name = \"Dictionaries\">Dictionaries</a>\n",
    "\n",
    "Dictionaries are another useful data structure provided by Python for working with data. Dictionaries are unordered, mutable (i.e., can be changed), and include an index. The latter point is unique however when compared to lists and tuples: specifically, data in dictionaries are stored and referenced as key: value pairs that create a mapping (in other languages, this structure is sometimes referred to as an *associative array*).\n",
    "\n",
    "To show how dictionaries are used, the best thing to do is to create an example. Consider the following dictionary for an employee at a company:"
   ]
  },
  {
   "cell_type": "code",
   "execution_count": 102,
   "metadata": {},
   "outputs": [
    {
     "data": {
      "text/plain": [
       "{'FName': 'Jane', 'LName': 'Smith', 'Dept': 'Accounting', 'StartYear': 2015}"
      ]
     },
     "execution_count": 102,
     "metadata": {},
     "output_type": "execute_result"
    }
   ],
   "source": [
    "myDict = {\n",
    "    'FName': 'Jane',\n",
    "    'LName': 'Smith',\n",
    "    'Dept': 'Accounting',\n",
    "    'StartYear': 2015\n",
    "}\n",
    "\n",
    "myDict"
   ]
  },
  {
   "cell_type": "code",
   "execution_count": 103,
   "metadata": {},
   "outputs": [
    {
     "data": {
      "text/plain": [
       "dict"
      ]
     },
     "execution_count": 103,
     "metadata": {},
     "output_type": "execute_result"
    }
   ],
   "source": [
    "type(myDict)"
   ]
  },
  {
   "cell_type": "markdown",
   "metadata": {},
   "source": [
    "As shown above, a dictionary is defined using curly brackets, and within these brackets are a sequence of key: value pairs as mentioned earlier. More specifically, `myDict` contains four keys, which we can see directly using the *keys* method:"
   ]
  },
  {
   "cell_type": "code",
   "execution_count": 104,
   "metadata": {},
   "outputs": [
    {
     "data": {
      "text/plain": [
       "dict_keys(['FName', 'LName', 'Dept', 'StartYear'])"
      ]
     },
     "execution_count": 104,
     "metadata": {},
     "output_type": "execute_result"
    }
   ],
   "source": [
    "myDict.keys()"
   ]
  },
  {
   "cell_type": "markdown",
   "metadata": {},
   "source": [
    "Presumably, we will want to collect and store this information for every employee at our company. In that case, we can use *nesting* to store information on several employees at once:"
   ]
  },
  {
   "cell_type": "code",
   "execution_count": 105,
   "metadata": {},
   "outputs": [
    {
     "data": {
      "text/plain": [
       "{'emp1': {'FName': 'Jane',\n",
       "  'LName': 'Smith',\n",
       "  'Dept': 'Accounting',\n",
       "  'StartYear': 2015},\n",
       " 'emp2': {'FName': 'Lucy',\n",
       "  'LName': 'Holland',\n",
       "  'Dept': 'IT',\n",
       "  'StartYear': 2012},\n",
       " 'emp3': {'FName': 'Martin',\n",
       "  'LName': 'Stephenson',\n",
       "  'Dept': 'HR',\n",
       "  'StartYear': 2020}}"
      ]
     },
     "execution_count": 105,
     "metadata": {},
     "output_type": "execute_result"
    }
   ],
   "source": [
    "myDictMore = {\n",
    "    'emp1': {\n",
    "        'FName': 'Jane',\n",
    "        'LName': 'Smith',\n",
    "        'Dept': 'Accounting',\n",
    "        'StartYear': 2015\n",
    "    },\n",
    "    'emp2': {\n",
    "        'FName': 'Lucy',\n",
    "        'LName': 'Holland',\n",
    "        'Dept': 'IT',\n",
    "        'StartYear': 2012\n",
    "    },\n",
    "    'emp3': {\n",
    "        'FName': 'Martin',\n",
    "        'LName': 'Stephenson',\n",
    "        'Dept': 'HR',\n",
    "        'StartYear': 2020\n",
    "    }\n",
    "}\n",
    "\n",
    "myDictMore"
   ]
  },
  {
   "cell_type": "markdown",
   "metadata": {},
   "source": [
    "When organized this way, we can use methods we've seen before to work with the data; for instance, if we wanted to know the number of employees we have data on, we can use `len`:"
   ]
  },
  {
   "cell_type": "code",
   "execution_count": 106,
   "metadata": {},
   "outputs": [
    {
     "data": {
      "text/plain": [
       "3"
      ]
     },
     "execution_count": 106,
     "metadata": {},
     "output_type": "execute_result"
    }
   ],
   "source": [
    "len(myDictMore)"
   ]
  },
  {
   "cell_type": "markdown",
   "metadata": {},
   "source": [
    "In addition, if you are working with `dict` objects heavily, you can find additional modules that can make your life either. For instance, to get a cleaner printout of a `dict`, consider importing the *pprint* function:"
   ]
  },
  {
   "cell_type": "code",
   "execution_count": 107,
   "metadata": {},
   "outputs": [
    {
     "name": "stdout",
     "output_type": "stream",
     "text": [
      "{'emp1': {'Dept': 'Accounting',\n",
      "          'FName': 'Jane',\n",
      "          'LName': 'Smith',\n",
      "          'StartYear': 2015},\n",
      " 'emp2': {'Dept': 'IT', 'FName': 'Lucy', 'LName': 'Holland', 'StartYear': 2012},\n",
      " 'emp3': {'Dept': 'HR',\n",
      "          'FName': 'Martin',\n",
      "          'LName': 'Stephenson',\n",
      "          'StartYear': 2020}}\n"
     ]
    }
   ],
   "source": [
    "from pprint import pprint\n",
    "\n",
    "pprint(myDictMore)"
   ]
  },
  {
   "cell_type": "markdown",
   "metadata": {},
   "source": [
    "### <a name = \"ReferencesCopies\">References vs. Copies</a>\n",
    "\n",
    "One particularly important note regarding lists, tuples, and other data structures has to do with variable assignment. For instance, consider the following example involving lists:"
   ]
  },
  {
   "cell_type": "code",
   "execution_count": 108,
   "metadata": {},
   "outputs": [],
   "source": [
    "myListA = [1, 'two', 3]\n",
    "myListB = myListA"
   ]
  },
  {
   "cell_type": "markdown",
   "metadata": {},
   "source": [
    "So far, we have defined two lists, and both will return the same value when called back:"
   ]
  },
  {
   "cell_type": "code",
   "execution_count": 109,
   "metadata": {},
   "outputs": [
    {
     "name": "stdout",
     "output_type": "stream",
     "text": [
      "[1, 'two', 3] [1, 'two', 3]\n"
     ]
    }
   ],
   "source": [
    "print(myListA, myListB)"
   ]
  },
  {
   "cell_type": "markdown",
   "metadata": {},
   "source": [
    "Now, let's go ahead and make a change to `myListA`:"
   ]
  },
  {
   "cell_type": "code",
   "execution_count": 110,
   "metadata": {},
   "outputs": [
    {
     "data": {
      "text/plain": [
       "[1, 2, 3]"
      ]
     },
     "execution_count": 110,
     "metadata": {},
     "output_type": "execute_result"
    }
   ],
   "source": [
    "myListA[1] = 2\n",
    "myListA"
   ]
  },
  {
   "cell_type": "markdown",
   "metadata": {},
   "source": [
    "As you can see, this code changed the second value of `myListA`. The question however is did this have any impact on `myListB`?"
   ]
  },
  {
   "cell_type": "code",
   "execution_count": 111,
   "metadata": {},
   "outputs": [
    {
     "data": {
      "text/plain": [
       "[1, 2, 3]"
      ]
     },
     "execution_count": 111,
     "metadata": {},
     "output_type": "execute_result"
    }
   ],
   "source": [
    "myListB"
   ]
  },
  {
   "cell_type": "markdown",
   "metadata": {},
   "source": [
    "The answer is yes, and the reason is that `myListB` did not store the value of the original list (i.e., `[1, 'two', 3]`) but rather a reference to that list by way of `myListA`. As such, any changes to `myListA` made in this fashion will also reflect in `myListB`.\n",
    "\n",
    "While somewhat technical, we can use the *id* to function to see the identity of both variables and confirm they are identical:"
   ]
  },
  {
   "cell_type": "code",
   "execution_count": 112,
   "metadata": {},
   "outputs": [
    {
     "name": "stdout",
     "output_type": "stream",
     "text": [
      "4443127232 4443127232\n"
     ]
    },
    {
     "data": {
      "text/plain": [
       "True"
      ]
     },
     "execution_count": 112,
     "metadata": {},
     "output_type": "execute_result"
    }
   ],
   "source": [
    "print(id(myListA), id(myListB))\n",
    "\n",
    "id(myListA) == id(myListB)"
   ]
  },
  {
   "cell_type": "markdown",
   "metadata": {},
   "source": [
    "Assuming this is not what you wanted/intended (e.g., perhaps you wanted to make myListA and myListB initially identical but not tied together for subsequent code), what you'd need to do instead is to make a copy of the list using the *copy* method:"
   ]
  },
  {
   "cell_type": "code",
   "execution_count": 113,
   "metadata": {},
   "outputs": [
    {
     "name": "stdout",
     "output_type": "stream",
     "text": [
      "[1, 2, 3] [1, 'two', 3]\n"
     ]
    }
   ],
   "source": [
    "myListA = [1, 'two', 3]\n",
    "myListB = myListA.copy()\n",
    "\n",
    "myListA[1] = 2\n",
    "\n",
    "print(myListA, myListB)"
   ]
  },
  {
   "cell_type": "markdown",
   "metadata": {},
   "source": [
    "Notice how changes to `myListA` do not impact `myListB` when the latter was set up as a copy. This is because copy creates a new value for `myListB` that is indepedent of the one assigned to `myListA`:"
   ]
  },
  {
   "cell_type": "code",
   "execution_count": 114,
   "metadata": {},
   "outputs": [
    {
     "name": "stdout",
     "output_type": "stream",
     "text": [
      "4443254016 4443103616\n"
     ]
    },
    {
     "data": {
      "text/plain": [
       "False"
      ]
     },
     "execution_count": 114,
     "metadata": {},
     "output_type": "execute_result"
    }
   ],
   "source": [
    "print(id(myListA), id(myListB))\n",
    "\n",
    "id(myListA) == id(myListB)"
   ]
  },
  {
   "cell_type": "markdown",
   "metadata": {},
   "source": [
    "While the distinction of a reference vs. a copy is somewhat technical, keep this important distinction in mind to avoid accidentally making changes to one variable when working with another -- it's very easy to make a critical mistake if you are not keeping track of this distinction!"
   ]
  },
  {
   "cell_type": "markdown",
   "metadata": {},
   "source": [
    "---\n",
    "#### <a name = \"ComparisonOperatorsIdentity\">Comparison Operators: Identity</a>\n",
    "\n",
    "Speaking of references, now is a good time to return to the two remaining comparison operators that we hadn't yet talked about in the previous unit. These are:\n",
    "\n",
    "- is: object identity\n",
    "- is not: negated object indentity\n",
    "\n",
    "These operators are useful for making comparisons across objects and variables. They often work similarly to the analagous comparison operators `==` and `!=` (for `is` and `not is` respectively). For instance, consider how these operators can also be used to test whether different lists -- either references or copies -- refer to the same object (or not):"
   ]
  },
  {
   "cell_type": "code",
   "execution_count": 115,
   "metadata": {},
   "outputs": [
    {
     "data": {
      "text/plain": [
       "True"
      ]
     },
     "execution_count": 115,
     "metadata": {},
     "output_type": "execute_result"
    }
   ],
   "source": [
    "myListA = [1, 'two', 3]\n",
    "myListB = myListA\n",
    "\n",
    "myListB is myListA"
   ]
  },
  {
   "cell_type": "code",
   "execution_count": 116,
   "metadata": {},
   "outputs": [
    {
     "data": {
      "text/plain": [
       "False"
      ]
     },
     "execution_count": 116,
     "metadata": {},
     "output_type": "execute_result"
    }
   ],
   "source": [
    "myListA = [1, 'two', 3]\n",
    "myListB = myListA.copy()\n",
    "\n",
    "myListB is myListA"
   ]
  },
  {
   "cell_type": "markdown",
   "metadata": {},
   "source": [
    "Note how the results of these comparisons differ as compared to using `==`:"
   ]
  },
  {
   "cell_type": "code",
   "execution_count": 117,
   "metadata": {},
   "outputs": [
    {
     "data": {
      "text/plain": [
       "True"
      ]
     },
     "execution_count": 117,
     "metadata": {},
     "output_type": "execute_result"
    }
   ],
   "source": [
    "myListA = [1, 'two', 3]\n",
    "myListB = myListA\n",
    "\n",
    "myListB == myListA"
   ]
  },
  {
   "cell_type": "code",
   "execution_count": 118,
   "metadata": {},
   "outputs": [
    {
     "data": {
      "text/plain": [
       "True"
      ]
     },
     "execution_count": 118,
     "metadata": {},
     "output_type": "execute_result"
    }
   ],
   "source": [
    "myListA = [1, 'two', 3]\n",
    "myListB = myListA.copy()\n",
    "\n",
    "myListB == myListA"
   ]
  },
  {
   "cell_type": "markdown",
   "metadata": {},
   "source": [
    "The latter comparison returns `True` this time since it is really comparing values. By contrast, `is` is comparing identity. To simulate `is` with `==`, we'd need to wrap the comparison with the `id` function we used earlier:"
   ]
  },
  {
   "cell_type": "code",
   "execution_count": 119,
   "metadata": {},
   "outputs": [
    {
     "data": {
      "text/plain": [
       "False"
      ]
     },
     "execution_count": 119,
     "metadata": {},
     "output_type": "execute_result"
    }
   ],
   "source": [
    "myListA = [1, 'two', 3]\n",
    "myListB = myListA.copy()\n",
    "\n",
    "id(myListB) == id(myListA)"
   ]
  },
  {
   "cell_type": "markdown",
   "metadata": {},
   "source": [
    "Now the result is as expected (i.e., since `myListB` is a copy of `myListA` and not simply a reference to it in this case)."
   ]
  }
 ],
 "metadata": {
  "kernelspec": {
   "display_name": "Python 3",
   "language": "python",
   "name": "python3"
  },
  "language_info": {
   "codemirror_mode": {
    "name": "ipython",
    "version": 3
   },
   "file_extension": ".py",
   "mimetype": "text/x-python",
   "name": "python",
   "nbconvert_exporter": "python",
   "pygments_lexer": "ipython3",
   "version": "3.8.1"
  }
 },
 "nbformat": 4,
 "nbformat_minor": 4
}
